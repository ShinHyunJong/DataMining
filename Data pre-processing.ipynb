{
 "cells": [
  {
   "cell_type": "code",
   "execution_count": 811,
   "metadata": {},
   "outputs": [
    {
     "data": {
      "text/html": [
       "<div>\n",
       "<style scoped>\n",
       "    .dataframe tbody tr th:only-of-type {\n",
       "        vertical-align: middle;\n",
       "    }\n",
       "\n",
       "    .dataframe tbody tr th {\n",
       "        vertical-align: top;\n",
       "    }\n",
       "\n",
       "    .dataframe thead th {\n",
       "        text-align: right;\n",
       "    }\n",
       "</style>\n",
       "<table border=\"1\" class=\"dataframe\">\n",
       "  <thead>\n",
       "    <tr style=\"text-align: right;\">\n",
       "      <th></th>\n",
       "      <th>Bo_Age</th>\n",
       "      <th>Ln_Orig</th>\n",
       "      <th>Orig_LTV_Ratio_Pct</th>\n",
       "      <th>Credit_score</th>\n",
       "      <th>First_home</th>\n",
       "      <th>Tot_mthly_debt_exp</th>\n",
       "      <th>Tot_mthly_incm</th>\n",
       "      <th>orig_apprd_val_amt</th>\n",
       "      <th>pur_prc_amt</th>\n",
       "      <th>DTI Ratio</th>\n",
       "      <th>Status</th>\n",
       "      <th>OUTCOME</th>\n",
       "      <th>State</th>\n",
       "      <th>Median_state_inc</th>\n",
       "      <th>UPB&gt;Appraisal</th>\n",
       "    </tr>\n",
       "  </thead>\n",
       "  <tbody>\n",
       "    <tr>\n",
       "      <th>0</th>\n",
       "      <td>37</td>\n",
       "      <td>75650.0</td>\n",
       "      <td>85</td>\n",
       "      <td>669</td>\n",
       "      <td>N</td>\n",
       "      <td>1707</td>\n",
       "      <td>6000</td>\n",
       "      <td>169000</td>\n",
       "      <td>160000</td>\n",
       "      <td>0.284500</td>\n",
       "      <td>Active</td>\n",
       "      <td>non-default</td>\n",
       "      <td>FL</td>\n",
       "      <td>40171</td>\n",
       "      <td>0</td>\n",
       "    </tr>\n",
       "    <tr>\n",
       "      <th>1</th>\n",
       "      <td>46</td>\n",
       "      <td>390775.0</td>\n",
       "      <td>102</td>\n",
       "      <td>684</td>\n",
       "      <td>N</td>\n",
       "      <td>0</td>\n",
       "      <td>5025</td>\n",
       "      <td>310000</td>\n",
       "      <td>309000</td>\n",
       "      <td>0.000000</td>\n",
       "      <td>Pay-off</td>\n",
       "      <td>non-default</td>\n",
       "      <td>NY</td>\n",
       "      <td>44228</td>\n",
       "      <td>1</td>\n",
       "    </tr>\n",
       "    <tr>\n",
       "      <th>2</th>\n",
       "      <td>30</td>\n",
       "      <td>112500.0</td>\n",
       "      <td>90</td>\n",
       "      <td>662</td>\n",
       "      <td>Y</td>\n",
       "      <td>1812</td>\n",
       "      <td>4800</td>\n",
       "      <td>177000</td>\n",
       "      <td>176450</td>\n",
       "      <td>0.377500</td>\n",
       "      <td>Pay-off</td>\n",
       "      <td>non-default</td>\n",
       "      <td>CA</td>\n",
       "      <td>49894</td>\n",
       "      <td>0</td>\n",
       "    </tr>\n",
       "    <tr>\n",
       "      <th>3</th>\n",
       "      <td>24</td>\n",
       "      <td>85250.0</td>\n",
       "      <td>97</td>\n",
       "      <td>647</td>\n",
       "      <td>N</td>\n",
       "      <td>3395</td>\n",
       "      <td>6934</td>\n",
       "      <td>113000</td>\n",
       "      <td>110000</td>\n",
       "      <td>0.489616</td>\n",
       "      <td>Pay-off</td>\n",
       "      <td>non-default</td>\n",
       "      <td>GA</td>\n",
       "      <td>43217</td>\n",
       "      <td>0</td>\n",
       "    </tr>\n",
       "    <tr>\n",
       "      <th>4</th>\n",
       "      <td>35</td>\n",
       "      <td>114000.0</td>\n",
       "      <td>100</td>\n",
       "      <td>791</td>\n",
       "      <td>N</td>\n",
       "      <td>3801</td>\n",
       "      <td>5504</td>\n",
       "      <td>103000</td>\n",
       "      <td>103000</td>\n",
       "      <td>0.690589</td>\n",
       "      <td>Pay-off</td>\n",
       "      <td>non-default</td>\n",
       "      <td>NH</td>\n",
       "      <td>57352</td>\n",
       "      <td>1</td>\n",
       "    </tr>\n",
       "  </tbody>\n",
       "</table>\n",
       "</div>"
      ],
      "text/plain": [
       "   Bo_Age   Ln_Orig  Orig_LTV_Ratio_Pct  Credit_score First_home  \\\n",
       "0      37   75650.0                  85           669          N   \n",
       "1      46  390775.0                 102           684          N   \n",
       "2      30  112500.0                  90           662          Y   \n",
       "3      24   85250.0                  97           647          N   \n",
       "4      35  114000.0                 100           791          N   \n",
       "\n",
       "   Tot_mthly_debt_exp  Tot_mthly_incm  orig_apprd_val_amt  pur_prc_amt  \\\n",
       "0                1707            6000              169000       160000   \n",
       "1                   0            5025              310000       309000   \n",
       "2                1812            4800              177000       176450   \n",
       "3                3395            6934              113000       110000   \n",
       "4                3801            5504              103000       103000   \n",
       "\n",
       "   DTI Ratio   Status      OUTCOME State  Median_state_inc  UPB>Appraisal  \n",
       "0   0.284500   Active  non-default    FL             40171              0  \n",
       "1   0.000000  Pay-off  non-default    NY             44228              1  \n",
       "2   0.377500  Pay-off  non-default    CA             49894              0  \n",
       "3   0.489616  Pay-off  non-default    GA             43217              0  \n",
       "4   0.690589  Pay-off  non-default    NH             57352              1  "
      ]
     },
     "execution_count": 811,
     "metadata": {},
     "output_type": "execute_result"
    }
   ],
   "source": [
    "# 데이터 불러오기\n",
    "import numpy as np \n",
    "import pandas as pd\n",
    "import matplotlib.pyplot as plt\n",
    "import seaborn as sns\n",
    "from sklearn.preprocessing import LabelEncoder\n",
    "\n",
    "mortgages=pd.read_csv('C:/Users/user/Desktop/산경 3학년 2학기/데이터 마이닝/데마 팀플/data.csv')\n",
    "mortgages.head()"
   ]
  },
  {
   "cell_type": "code",
   "execution_count": 812,
   "metadata": {},
   "outputs": [
    {
     "data": {
      "text/html": [
       "<div>\n",
       "<style scoped>\n",
       "    .dataframe tbody tr th:only-of-type {\n",
       "        vertical-align: middle;\n",
       "    }\n",
       "\n",
       "    .dataframe tbody tr th {\n",
       "        vertical-align: top;\n",
       "    }\n",
       "\n",
       "    .dataframe thead th {\n",
       "        text-align: right;\n",
       "    }\n",
       "</style>\n",
       "<table border=\"1\" class=\"dataframe\">\n",
       "  <thead>\n",
       "    <tr style=\"text-align: right;\">\n",
       "      <th></th>\n",
       "      <th>Bo_Age</th>\n",
       "      <th>Ln_Orig</th>\n",
       "      <th>Orig_LTV_Ratio_Pct</th>\n",
       "      <th>Credit_score</th>\n",
       "      <th>First_home</th>\n",
       "      <th>Tot_mthly_debt_exp</th>\n",
       "      <th>Tot_mthly_incm</th>\n",
       "      <th>orig_apprd_val_amt</th>\n",
       "      <th>pur_prc_amt</th>\n",
       "      <th>DTI Ratio</th>\n",
       "      <th>Status</th>\n",
       "      <th>OUTCOME</th>\n",
       "      <th>State</th>\n",
       "      <th>Median_state_inc</th>\n",
       "      <th>UPB&gt;Appraisal</th>\n",
       "    </tr>\n",
       "  </thead>\n",
       "  <tbody>\n",
       "    <tr>\n",
       "      <th>10602</th>\n",
       "      <td>37</td>\n",
       "      <td>280200.0</td>\n",
       "      <td>95</td>\n",
       "      <td>652</td>\n",
       "      <td>Y</td>\n",
       "      <td>727</td>\n",
       "      <td>1827</td>\n",
       "      <td>80000</td>\n",
       "      <td>80000</td>\n",
       "      <td>0.397920</td>\n",
       "      <td>Pay-off</td>\n",
       "      <td>non-default</td>\n",
       "      <td>AZ</td>\n",
       "      <td>42590</td>\n",
       "      <td>1</td>\n",
       "    </tr>\n",
       "    <tr>\n",
       "      <th>10603</th>\n",
       "      <td>30</td>\n",
       "      <td>57000.0</td>\n",
       "      <td>94</td>\n",
       "      <td>589</td>\n",
       "      <td>N</td>\n",
       "      <td>1703</td>\n",
       "      <td>3941</td>\n",
       "      <td>109000</td>\n",
       "      <td>108000</td>\n",
       "      <td>0.432124</td>\n",
       "      <td>Pay-off</td>\n",
       "      <td>non-default</td>\n",
       "      <td>IL</td>\n",
       "      <td>45787</td>\n",
       "      <td>0</td>\n",
       "    </tr>\n",
       "    <tr>\n",
       "      <th>10604</th>\n",
       "      <td>33</td>\n",
       "      <td>153200.0</td>\n",
       "      <td>95</td>\n",
       "      <td>675</td>\n",
       "      <td>Y</td>\n",
       "      <td>1726</td>\n",
       "      <td>3707</td>\n",
       "      <td>154000</td>\n",
       "      <td>154000</td>\n",
       "      <td>0.465606</td>\n",
       "      <td>Pay-off</td>\n",
       "      <td>non-default</td>\n",
       "      <td>GA</td>\n",
       "      <td>43217</td>\n",
       "      <td>0</td>\n",
       "    </tr>\n",
       "    <tr>\n",
       "      <th>10605</th>\n",
       "      <td>38</td>\n",
       "      <td>158850.0</td>\n",
       "      <td>100</td>\n",
       "      <td>786</td>\n",
       "      <td>Y</td>\n",
       "      <td>1364</td>\n",
       "      <td>2500</td>\n",
       "      <td>92000</td>\n",
       "      <td>92000</td>\n",
       "      <td>0.545600</td>\n",
       "      <td>Active</td>\n",
       "      <td>non-default</td>\n",
       "      <td>FL</td>\n",
       "      <td>40171</td>\n",
       "      <td>1</td>\n",
       "    </tr>\n",
       "    <tr>\n",
       "      <th>10606</th>\n",
       "      <td>37</td>\n",
       "      <td>47000.0</td>\n",
       "      <td>89</td>\n",
       "      <td>683</td>\n",
       "      <td>Y</td>\n",
       "      <td>2251</td>\n",
       "      <td>8541</td>\n",
       "      <td>191000</td>\n",
       "      <td>189000</td>\n",
       "      <td>0.263552</td>\n",
       "      <td>Active</td>\n",
       "      <td>non-default</td>\n",
       "      <td>TX</td>\n",
       "      <td>41275</td>\n",
       "      <td>0</td>\n",
       "    </tr>\n",
       "  </tbody>\n",
       "</table>\n",
       "</div>"
      ],
      "text/plain": [
       "       Bo_Age   Ln_Orig  Orig_LTV_Ratio_Pct  Credit_score First_home  \\\n",
       "10602      37  280200.0                  95           652          Y   \n",
       "10603      30   57000.0                  94           589          N   \n",
       "10604      33  153200.0                  95           675          Y   \n",
       "10605      38  158850.0                 100           786          Y   \n",
       "10606      37   47000.0                  89           683          Y   \n",
       "\n",
       "       Tot_mthly_debt_exp  Tot_mthly_incm  orig_apprd_val_amt  pur_prc_amt  \\\n",
       "10602                 727            1827               80000        80000   \n",
       "10603                1703            3941              109000       108000   \n",
       "10604                1726            3707              154000       154000   \n",
       "10605                1364            2500               92000        92000   \n",
       "10606                2251            8541              191000       189000   \n",
       "\n",
       "       DTI Ratio   Status      OUTCOME State  Median_state_inc  UPB>Appraisal  \n",
       "10602   0.397920  Pay-off  non-default    AZ             42590              1  \n",
       "10603   0.432124  Pay-off  non-default    IL             45787              0  \n",
       "10604   0.465606  Pay-off  non-default    GA             43217              0  \n",
       "10605   0.545600   Active  non-default    FL             40171              1  \n",
       "10606   0.263552   Active  non-default    TX             41275              0  "
      ]
     },
     "execution_count": 812,
     "metadata": {},
     "output_type": "execute_result"
    }
   ],
   "source": [
    "mortgages.tail()"
   ]
  },
  {
   "cell_type": "code",
   "execution_count": 813,
   "metadata": {},
   "outputs": [
    {
     "name": "stdout",
     "output_type": "stream",
     "text": [
      "Data Info\n",
      "\n",
      "<class 'pandas.core.frame.DataFrame'>\n",
      "RangeIndex: 10607 entries, 0 to 10606\n",
      "Data columns (total 15 columns):\n",
      "Bo_Age                10607 non-null int64\n",
      "Ln_Orig               10607 non-null float64\n",
      "Orig_LTV_Ratio_Pct    10607 non-null int64\n",
      "Credit_score          10607 non-null int64\n",
      "First_home            10607 non-null object\n",
      "Tot_mthly_debt_exp    10607 non-null int64\n",
      "Tot_mthly_incm        10607 non-null int64\n",
      "orig_apprd_val_amt    10607 non-null int64\n",
      "pur_prc_amt           10607 non-null int64\n",
      "DTI Ratio             10607 non-null float64\n",
      "Status                10607 non-null object\n",
      "OUTCOME               10607 non-null object\n",
      "State                 10607 non-null object\n",
      "Median_state_inc      10607 non-null int64\n",
      "UPB>Appraisal         10607 non-null int64\n",
      "dtypes: float64(2), int64(9), object(4)\n",
      "memory usage: 1.2+ MB\n",
      "None \n",
      "\n",
      "Data shape\n",
      "\n",
      "(10607, 15)\n"
     ]
    }
   ],
   "source": [
    "# 데이터 information\n",
    "print('Data Info\\n')\n",
    "print(mortgages.info(), '\\n')\n",
    "print('Data shape\\n')\n",
    "print(mortgages.shape)"
   ]
  },
  {
   "cell_type": "code",
   "execution_count": 814,
   "metadata": {},
   "outputs": [
    {
     "data": {
      "text/plain": [
       "Bo_Age                0\n",
       "Ln_Orig               0\n",
       "Orig_LTV_Ratio_Pct    0\n",
       "Credit_score          0\n",
       "First_home            0\n",
       "Tot_mthly_debt_exp    0\n",
       "Tot_mthly_incm        0\n",
       "orig_apprd_val_amt    0\n",
       "pur_prc_amt           0\n",
       "DTI Ratio             0\n",
       "Status                0\n",
       "OUTCOME               0\n",
       "State                 0\n",
       "Median_state_inc      0\n",
       "UPB>Appraisal         0\n",
       "dtype: int64"
      ]
     },
     "execution_count": 814,
     "metadata": {},
     "output_type": "execute_result"
    }
   ],
   "source": [
    "# 데이터 결측치 확인\n",
    "mortgages.isnull().sum()"
   ]
  },
  {
   "cell_type": "code",
   "execution_count": 815,
   "metadata": {
    "scrolled": true
   },
   "outputs": [
    {
     "name": "stdout",
     "output_type": "stream",
     "text": [
      "Data Describe\n",
      "\n"
     ]
    },
    {
     "data": {
      "text/html": [
       "<div>\n",
       "<style scoped>\n",
       "    .dataframe tbody tr th:only-of-type {\n",
       "        vertical-align: middle;\n",
       "    }\n",
       "\n",
       "    .dataframe tbody tr th {\n",
       "        vertical-align: top;\n",
       "    }\n",
       "\n",
       "    .dataframe thead th {\n",
       "        text-align: right;\n",
       "    }\n",
       "</style>\n",
       "<table border=\"1\" class=\"dataframe\">\n",
       "  <thead>\n",
       "    <tr style=\"text-align: right;\">\n",
       "      <th></th>\n",
       "      <th>Bo_Age</th>\n",
       "      <th>Ln_Orig</th>\n",
       "      <th>Orig_LTV_Ratio_Pct</th>\n",
       "      <th>Credit_score</th>\n",
       "      <th>Tot_mthly_debt_exp</th>\n",
       "      <th>Tot_mthly_incm</th>\n",
       "      <th>orig_apprd_val_amt</th>\n",
       "      <th>pur_prc_amt</th>\n",
       "      <th>DTI Ratio</th>\n",
       "      <th>Median_state_inc</th>\n",
       "      <th>UPB&gt;Appraisal</th>\n",
       "    </tr>\n",
       "  </thead>\n",
       "  <tbody>\n",
       "    <tr>\n",
       "      <th>count</th>\n",
       "      <td>10607.000000</td>\n",
       "      <td>10607.000000</td>\n",
       "      <td>10607.000000</td>\n",
       "      <td>10607.000000</td>\n",
       "      <td>10607.000000</td>\n",
       "      <td>10607.000000</td>\n",
       "      <td>10607.000000</td>\n",
       "      <td>10607.000000</td>\n",
       "      <td>10607.000000</td>\n",
       "      <td>10607.000000</td>\n",
       "      <td>10607.000000</td>\n",
       "    </tr>\n",
       "    <tr>\n",
       "      <th>mean</th>\n",
       "      <td>36.723862</td>\n",
       "      <td>153520.545577</td>\n",
       "      <td>93.041953</td>\n",
       "      <td>688.217498</td>\n",
       "      <td>1745.545583</td>\n",
       "      <td>5038.689356</td>\n",
       "      <td>170832.691242</td>\n",
       "      <td>164978.639672</td>\n",
       "      <td>0.374167</td>\n",
       "      <td>44958.605072</td>\n",
       "      <td>0.450457</td>\n",
       "    </tr>\n",
       "    <tr>\n",
       "      <th>std</th>\n",
       "      <td>10.000086</td>\n",
       "      <td>68516.691583</td>\n",
       "      <td>8.766656</td>\n",
       "      <td>62.933723</td>\n",
       "      <td>1087.467410</td>\n",
       "      <td>2978.967994</td>\n",
       "      <td>81840.898019</td>\n",
       "      <td>79788.864690</td>\n",
       "      <td>0.176667</td>\n",
       "      <td>5419.521444</td>\n",
       "      <td>0.497563</td>\n",
       "    </tr>\n",
       "    <tr>\n",
       "      <th>min</th>\n",
       "      <td>18.000000</td>\n",
       "      <td>19600.000000</td>\n",
       "      <td>22.000000</td>\n",
       "      <td>440.000000</td>\n",
       "      <td>0.000000</td>\n",
       "      <td>684.000000</td>\n",
       "      <td>0.000000</td>\n",
       "      <td>21800.000000</td>\n",
       "      <td>0.000000</td>\n",
       "      <td>32589.000000</td>\n",
       "      <td>0.000000</td>\n",
       "    </tr>\n",
       "    <tr>\n",
       "      <th>25%</th>\n",
       "      <td>30.000000</td>\n",
       "      <td>103975.000000</td>\n",
       "      <td>90.000000</td>\n",
       "      <td>648.000000</td>\n",
       "      <td>1071.500000</td>\n",
       "      <td>3284.000000</td>\n",
       "      <td>113000.000000</td>\n",
       "      <td>109000.000000</td>\n",
       "      <td>0.276000</td>\n",
       "      <td>40171.000000</td>\n",
       "      <td>0.000000</td>\n",
       "    </tr>\n",
       "    <tr>\n",
       "      <th>50%</th>\n",
       "      <td>37.000000</td>\n",
       "      <td>140541.000000</td>\n",
       "      <td>95.000000</td>\n",
       "      <td>688.000000</td>\n",
       "      <td>1582.000000</td>\n",
       "      <td>4650.000000</td>\n",
       "      <td>154500.000000</td>\n",
       "      <td>148900.000000</td>\n",
       "      <td>0.375546</td>\n",
       "      <td>43988.000000</td>\n",
       "      <td>0.000000</td>\n",
       "    </tr>\n",
       "    <tr>\n",
       "      <th>75%</th>\n",
       "      <td>41.000000</td>\n",
       "      <td>191169.000000</td>\n",
       "      <td>100.000000</td>\n",
       "      <td>737.000000</td>\n",
       "      <td>2255.500000</td>\n",
       "      <td>6000.000000</td>\n",
       "      <td>215000.000000</td>\n",
       "      <td>206000.000000</td>\n",
       "      <td>0.470595</td>\n",
       "      <td>49894.000000</td>\n",
       "      <td>1.000000</td>\n",
       "    </tr>\n",
       "    <tr>\n",
       "      <th>max</th>\n",
       "      <td>99.000000</td>\n",
       "      <td>599000.000000</td>\n",
       "      <td>103.000000</td>\n",
       "      <td>999.000000</td>\n",
       "      <td>17225.000000</td>\n",
       "      <td>65000.000000</td>\n",
       "      <td>870000.000000</td>\n",
       "      <td>870000.000000</td>\n",
       "      <td>3.428077</td>\n",
       "      <td>57352.000000</td>\n",
       "      <td>1.000000</td>\n",
       "    </tr>\n",
       "  </tbody>\n",
       "</table>\n",
       "</div>"
      ],
      "text/plain": [
       "             Bo_Age        Ln_Orig  Orig_LTV_Ratio_Pct  Credit_score  \\\n",
       "count  10607.000000   10607.000000        10607.000000  10607.000000   \n",
       "mean      36.723862  153520.545577           93.041953    688.217498   \n",
       "std       10.000086   68516.691583            8.766656     62.933723   \n",
       "min       18.000000   19600.000000           22.000000    440.000000   \n",
       "25%       30.000000  103975.000000           90.000000    648.000000   \n",
       "50%       37.000000  140541.000000           95.000000    688.000000   \n",
       "75%       41.000000  191169.000000          100.000000    737.000000   \n",
       "max       99.000000  599000.000000          103.000000    999.000000   \n",
       "\n",
       "       Tot_mthly_debt_exp  Tot_mthly_incm  orig_apprd_val_amt    pur_prc_amt  \\\n",
       "count        10607.000000    10607.000000        10607.000000   10607.000000   \n",
       "mean          1745.545583     5038.689356       170832.691242  164978.639672   \n",
       "std           1087.467410     2978.967994        81840.898019   79788.864690   \n",
       "min              0.000000      684.000000            0.000000   21800.000000   \n",
       "25%           1071.500000     3284.000000       113000.000000  109000.000000   \n",
       "50%           1582.000000     4650.000000       154500.000000  148900.000000   \n",
       "75%           2255.500000     6000.000000       215000.000000  206000.000000   \n",
       "max          17225.000000    65000.000000       870000.000000  870000.000000   \n",
       "\n",
       "          DTI Ratio  Median_state_inc  UPB>Appraisal  \n",
       "count  10607.000000      10607.000000   10607.000000  \n",
       "mean       0.374167      44958.605072       0.450457  \n",
       "std        0.176667       5419.521444       0.497563  \n",
       "min        0.000000      32589.000000       0.000000  \n",
       "25%        0.276000      40171.000000       0.000000  \n",
       "50%        0.375546      43988.000000       0.000000  \n",
       "75%        0.470595      49894.000000       1.000000  \n",
       "max        3.428077      57352.000000       1.000000  "
      ]
     },
     "execution_count": 815,
     "metadata": {},
     "output_type": "execute_result"
    }
   ],
   "source": [
    "# 데이터 요약(수치형)\n",
    "print('Data Describe\\n')\n",
    "mortgages.describe()"
   ]
  },
  {
   "cell_type": "code",
   "execution_count": 816,
   "metadata": {},
   "outputs": [
    {
     "name": "stdout",
     "output_type": "stream",
     "text": [
      "OUTCOME\n",
      "\n",
      "OUTCOME Value Counts\n",
      "\n",
      "non-default    10325\n",
      "default          282\n",
      "Name: OUTCOME, dtype: int64\n"
     ]
    },
    {
     "data": {
      "image/png": "[encoded data removed]",
      "text/plain": [
       "<Figure size 432x288 with 1 Axes>"
      ]
     },
     "metadata": {
      "needs_background": "light"
     },
     "output_type": "display_data"
    }
   ],
   "source": [
    "# Target value 분석\n",
    "print('OUTCOME\\n')\n",
    "print('OUTCOME Value Counts\\n')\n",
    "print(mortgages['OUTCOME'].value_counts(dropna=False))\n",
    "\n",
    "sns.countplot(mortgages['OUTCOME'])\n",
    "plt.show()"
   ]
  },
  {
   "cell_type": "code",
   "execution_count": 817,
   "metadata": {},
   "outputs": [
    {
     "name": "stdout",
     "output_type": "stream",
     "text": [
      "First_home unique value\n",
      "['N' 'Y'] \n",
      "\n",
      "Status unique value\n",
      "['Active' 'Pay-off' 'Default'] \n",
      "\n",
      "OUTCOME unique value\n",
      "['non-default' 'default'] \n",
      "\n",
      "State unique value\n",
      "['FL' 'NY' 'CA' 'GA' 'NH' 'MO' 'MI' 'TX' 'PA' 'WA' 'NE' 'NJ' 'IA' 'IN'\n",
      " 'ID' 'WI' 'OH' 'CT' 'NC' 'AR' 'AZ' 'IL' 'TN' 'SC' 'AL' 'MD' 'HI' 'CO'\n",
      " 'OR' 'VA' 'NV' 'UT' 'MT' 'LA' 'MN' 'NM' 'MS' 'DE' 'DC' 'SD' 'MA' 'KS'\n",
      " 'KY' 'RI' 'ND' 'WY' 'ME' 'OK' 'AK' 'VT' 'WV']\n"
     ]
    }
   ],
   "source": [
    "# Object 변수 확인\n",
    "print('First_home unique value')\n",
    "print(mortgages.First_home.unique(), '\\n')\n",
    "\n",
    "print('Status unique value')\n",
    "print(mortgages.Status.unique(), '\\n')\n",
    "\n",
    "print('OUTCOME unique value')\n",
    "print(mortgages.OUTCOME.unique(), '\\n')\n",
    "\n",
    "print('State unique value')\n",
    "print(mortgages.State.unique())"
   ]
  },
  {
   "cell_type": "code",
   "execution_count": 818,
   "metadata": {},
   "outputs": [
    {
     "data": {
      "text/html": [
       "<div>\n",
       "<style scoped>\n",
       "    .dataframe tbody tr th:only-of-type {\n",
       "        vertical-align: middle;\n",
       "    }\n",
       "\n",
       "    .dataframe tbody tr th {\n",
       "        vertical-align: top;\n",
       "    }\n",
       "\n",
       "    .dataframe thead th {\n",
       "        text-align: right;\n",
       "    }\n",
       "</style>\n",
       "<table border=\"1\" class=\"dataframe\">\n",
       "  <thead>\n",
       "    <tr style=\"text-align: right;\">\n",
       "      <th></th>\n",
       "      <th>Bo_Age</th>\n",
       "      <th>Ln_Orig</th>\n",
       "      <th>Orig_LTV_Ratio_Pct</th>\n",
       "      <th>Credit_score</th>\n",
       "      <th>Tot_mthly_debt_exp</th>\n",
       "      <th>Tot_mthly_incm</th>\n",
       "      <th>orig_apprd_val_amt</th>\n",
       "      <th>pur_prc_amt</th>\n",
       "      <th>DTI Ratio</th>\n",
       "      <th>Median_state_inc</th>\n",
       "      <th>UPB&gt;Appraisal</th>\n",
       "    </tr>\n",
       "  </thead>\n",
       "  <tbody>\n",
       "    <tr>\n",
       "      <th>Bo_Age</th>\n",
       "      <td>1.000000</td>\n",
       "      <td>0.054838</td>\n",
       "      <td>-0.187075</td>\n",
       "      <td>-0.009696</td>\n",
       "      <td>-0.023613</td>\n",
       "      <td>-0.047307</td>\n",
       "      <td>0.012477</td>\n",
       "      <td>0.013002</td>\n",
       "      <td>-0.008800</td>\n",
       "      <td>-0.006758</td>\n",
       "      <td>0.027124</td>\n",
       "    </tr>\n",
       "    <tr>\n",
       "      <th>Ln_Orig</th>\n",
       "      <td>0.054838</td>\n",
       "      <td>1.000000</td>\n",
       "      <td>-0.122721</td>\n",
       "      <td>-0.079500</td>\n",
       "      <td>-0.208888</td>\n",
       "      <td>-0.201956</td>\n",
       "      <td>-0.152384</td>\n",
       "      <td>-0.129252</td>\n",
       "      <td>0.029545</td>\n",
       "      <td>-0.064897</td>\n",
       "      <td>0.600760</td>\n",
       "    </tr>\n",
       "    <tr>\n",
       "      <th>Orig_LTV_Ratio_Pct</th>\n",
       "      <td>-0.187075</td>\n",
       "      <td>-0.122721</td>\n",
       "      <td>1.000000</td>\n",
       "      <td>0.018858</td>\n",
       "      <td>-0.026365</td>\n",
       "      <td>-0.107458</td>\n",
       "      <td>-0.056270</td>\n",
       "      <td>-0.058493</td>\n",
       "      <td>0.044360</td>\n",
       "      <td>0.005247</td>\n",
       "      <td>-0.041620</td>\n",
       "    </tr>\n",
       "    <tr>\n",
       "      <th>Credit_score</th>\n",
       "      <td>-0.009696</td>\n",
       "      <td>-0.079500</td>\n",
       "      <td>0.018858</td>\n",
       "      <td>1.000000</td>\n",
       "      <td>0.029723</td>\n",
       "      <td>0.108713</td>\n",
       "      <td>0.116791</td>\n",
       "      <td>0.110295</td>\n",
       "      <td>-0.098423</td>\n",
       "      <td>0.095472</td>\n",
       "      <td>-0.098703</td>\n",
       "    </tr>\n",
       "    <tr>\n",
       "      <th>Tot_mthly_debt_exp</th>\n",
       "      <td>-0.023613</td>\n",
       "      <td>-0.208888</td>\n",
       "      <td>-0.026365</td>\n",
       "      <td>0.029723</td>\n",
       "      <td>1.000000</td>\n",
       "      <td>0.473039</td>\n",
       "      <td>0.464914</td>\n",
       "      <td>0.475294</td>\n",
       "      <td>0.576835</td>\n",
       "      <td>0.094035</td>\n",
       "      <td>-0.381844</td>\n",
       "    </tr>\n",
       "    <tr>\n",
       "      <th>Tot_mthly_incm</th>\n",
       "      <td>-0.047307</td>\n",
       "      <td>-0.201956</td>\n",
       "      <td>-0.107458</td>\n",
       "      <td>0.108713</td>\n",
       "      <td>0.473039</td>\n",
       "      <td>1.000000</td>\n",
       "      <td>0.483977</td>\n",
       "      <td>0.461343</td>\n",
       "      <td>-0.265586</td>\n",
       "      <td>0.114532</td>\n",
       "      <td>-0.384078</td>\n",
       "    </tr>\n",
       "    <tr>\n",
       "      <th>orig_apprd_val_amt</th>\n",
       "      <td>0.012477</td>\n",
       "      <td>-0.152384</td>\n",
       "      <td>-0.056270</td>\n",
       "      <td>0.116791</td>\n",
       "      <td>0.464914</td>\n",
       "      <td>0.483977</td>\n",
       "      <td>1.000000</td>\n",
       "      <td>0.953316</td>\n",
       "      <td>0.016569</td>\n",
       "      <td>0.301122</td>\n",
       "      <td>-0.594247</td>\n",
       "    </tr>\n",
       "    <tr>\n",
       "      <th>pur_prc_amt</th>\n",
       "      <td>0.013002</td>\n",
       "      <td>-0.129252</td>\n",
       "      <td>-0.058493</td>\n",
       "      <td>0.110295</td>\n",
       "      <td>0.475294</td>\n",
       "      <td>0.461343</td>\n",
       "      <td>0.953316</td>\n",
       "      <td>1.000000</td>\n",
       "      <td>0.044723</td>\n",
       "      <td>0.287218</td>\n",
       "      <td>-0.566130</td>\n",
       "    </tr>\n",
       "    <tr>\n",
       "      <th>DTI Ratio</th>\n",
       "      <td>-0.008800</td>\n",
       "      <td>0.029545</td>\n",
       "      <td>0.044360</td>\n",
       "      <td>-0.098423</td>\n",
       "      <td>0.576835</td>\n",
       "      <td>-0.265586</td>\n",
       "      <td>0.016569</td>\n",
       "      <td>0.044723</td>\n",
       "      <td>1.000000</td>\n",
       "      <td>-0.038760</td>\n",
       "      <td>0.004392</td>\n",
       "    </tr>\n",
       "    <tr>\n",
       "      <th>Median_state_inc</th>\n",
       "      <td>-0.006758</td>\n",
       "      <td>-0.064897</td>\n",
       "      <td>0.005247</td>\n",
       "      <td>0.095472</td>\n",
       "      <td>0.094035</td>\n",
       "      <td>0.114532</td>\n",
       "      <td>0.301122</td>\n",
       "      <td>0.287218</td>\n",
       "      <td>-0.038760</td>\n",
       "      <td>1.000000</td>\n",
       "      <td>-0.208181</td>\n",
       "    </tr>\n",
       "    <tr>\n",
       "      <th>UPB&gt;Appraisal</th>\n",
       "      <td>0.027124</td>\n",
       "      <td>0.600760</td>\n",
       "      <td>-0.041620</td>\n",
       "      <td>-0.098703</td>\n",
       "      <td>-0.381844</td>\n",
       "      <td>-0.384078</td>\n",
       "      <td>-0.594247</td>\n",
       "      <td>-0.566130</td>\n",
       "      <td>0.004392</td>\n",
       "      <td>-0.208181</td>\n",
       "      <td>1.000000</td>\n",
       "    </tr>\n",
       "  </tbody>\n",
       "</table>\n",
       "</div>"
      ],
      "text/plain": [
       "                      Bo_Age   Ln_Orig  Orig_LTV_Ratio_Pct  Credit_score  \\\n",
       "Bo_Age              1.000000  0.054838           -0.187075     -0.009696   \n",
       "Ln_Orig             0.054838  1.000000           -0.122721     -0.079500   \n",
       "Orig_LTV_Ratio_Pct -0.187075 -0.122721            1.000000      0.018858   \n",
       "Credit_score       -0.009696 -0.079500            0.018858      1.000000   \n",
       "Tot_mthly_debt_exp -0.023613 -0.208888           -0.026365      0.029723   \n",
       "Tot_mthly_incm     -0.047307 -0.201956           -0.107458      0.108713   \n",
       "orig_apprd_val_amt  0.012477 -0.152384           -0.056270      0.116791   \n",
       "pur_prc_amt         0.013002 -0.129252           -0.058493      0.110295   \n",
       "DTI Ratio          -0.008800  0.029545            0.044360     -0.098423   \n",
       "Median_state_inc   -0.006758 -0.064897            0.005247      0.095472   \n",
       "UPB>Appraisal       0.027124  0.600760           -0.041620     -0.098703   \n",
       "\n",
       "                    Tot_mthly_debt_exp  Tot_mthly_incm  orig_apprd_val_amt  \\\n",
       "Bo_Age                       -0.023613       -0.047307            0.012477   \n",
       "Ln_Orig                      -0.208888       -0.201956           -0.152384   \n",
       "Orig_LTV_Ratio_Pct           -0.026365       -0.107458           -0.056270   \n",
       "Credit_score                  0.029723        0.108713            0.116791   \n",
       "Tot_mthly_debt_exp            1.000000        0.473039            0.464914   \n",
       "Tot_mthly_incm                0.473039        1.000000            0.483977   \n",
       "orig_apprd_val_amt            0.464914        0.483977            1.000000   \n",
       "pur_prc_amt                   0.475294        0.461343            0.953316   \n",
       "DTI Ratio                     0.576835       -0.265586            0.016569   \n",
       "Median_state_inc              0.094035        0.114532            0.301122   \n",
       "UPB>Appraisal                -0.381844       -0.384078           -0.594247   \n",
       "\n",
       "                    pur_prc_amt  DTI Ratio  Median_state_inc  UPB>Appraisal  \n",
       "Bo_Age                 0.013002  -0.008800         -0.006758       0.027124  \n",
       "Ln_Orig               -0.129252   0.029545         -0.064897       0.600760  \n",
       "Orig_LTV_Ratio_Pct    -0.058493   0.044360          0.005247      -0.041620  \n",
       "Credit_score           0.110295  -0.098423          0.095472      -0.098703  \n",
       "Tot_mthly_debt_exp     0.475294   0.576835          0.094035      -0.381844  \n",
       "Tot_mthly_incm         0.461343  -0.265586          0.114532      -0.384078  \n",
       "orig_apprd_val_amt     0.953316   0.016569          0.301122      -0.594247  \n",
       "pur_prc_amt            1.000000   0.044723          0.287218      -0.566130  \n",
       "DTI Ratio              0.044723   1.000000         -0.038760       0.004392  \n",
       "Median_state_inc       0.287218  -0.038760          1.000000      -0.208181  \n",
       "UPB>Appraisal         -0.566130   0.004392         -0.208181       1.000000  "
      ]
     },
     "execution_count": 818,
     "metadata": {},
     "output_type": "execute_result"
    }
   ],
   "source": [
    "mortgages.corr()"
   ]
  },
  {
   "cell_type": "code",
   "execution_count": 819,
   "metadata": {},
   "outputs": [
    {
     "data": {
      "text/plain": [
       "<matplotlib.axes._subplots.AxesSubplot at 0xe1923eebe0>"
      ]
     },
     "execution_count": 819,
     "metadata": {},
     "output_type": "execute_result"
    },
    {
     "data": {
      "image/png": "[encoded data removed]",
      "text/plain": [
       "<Figure size 720x720 with 2 Axes>"
      ]
     },
     "metadata": {
      "needs_background": "light"
     },
     "output_type": "display_data"
    }
   ],
   "source": [
    "colormap = plt.cm.RdBu\n",
    "plt.figure(figsize=(10,10))\n",
    "sns.heatmap(data = mortgages.corr(), fmt = '.3f', linewidths=0.1, vmax=1.0,\n",
    "           square=True, cmap=colormap, linecolor='white', annot=True, annot_kws={\"size\": 10})"
   ]
  },
  {
   "cell_type": "code",
   "execution_count": 820,
   "metadata": {},
   "outputs": [
    {
     "data": {
      "text/plain": [
       "<matplotlib.axes._subplots.AxesSubplot at 0xe192785630>"
      ]
     },
     "execution_count": 820,
     "metadata": {},
     "output_type": "execute_result"
    },
    {
     "data": {
      "image/png": "[encoded data removed]",
      "text/plain": [
       "<Figure size 432x288 with 1 Axes>"
      ]
     },
     "metadata": {
      "needs_background": "light"
     },
     "output_type": "display_data"
    }
   ],
   "source": [
    "mortgages['Tot_mthly_incm'].hist(bins=50)"
   ]
  },
  {
   "cell_type": "code",
   "execution_count": 821,
   "metadata": {},
   "outputs": [
    {
     "data": {
      "text/plain": [
       "<matplotlib.axes._subplots.AxesSubplot at 0xe19254c898>"
      ]
     },
     "execution_count": 821,
     "metadata": {},
     "output_type": "execute_result"
    },
    {
     "data": {
      "image/png": "[encoded data removed]",
      "text/plain": [
       "<Figure size 432x288 with 1 Axes>"
      ]
     },
     "metadata": {
      "needs_background": "light"
     },
     "output_type": "display_data"
    }
   ],
   "source": [
    "mortgages.boxplot(column='Tot_mthly_incm')"
   ]
  },
  {
   "cell_type": "code",
   "execution_count": 822,
   "metadata": {},
   "outputs": [
    {
     "data": {
      "text/plain": [
       "<matplotlib.axes._subplots.AxesSubplot at 0xe192570240>"
      ]
     },
     "execution_count": 822,
     "metadata": {},
     "output_type": "execute_result"
    },
    {
     "data": {
      "image/png": "[encoded data removed]",
      "text/plain": [
       "<Figure size 432x288 with 1 Axes>"
      ]
     },
     "metadata": {
      "needs_background": "light"
     },
     "output_type": "display_data"
    }
   ],
   "source": [
    "mortgages.boxplot(column='Tot_mthly_incm', by='First_home')"
   ]
  },
  {
   "cell_type": "code",
   "execution_count": 823,
   "metadata": {},
   "outputs": [
    {
     "data": {
      "text/plain": [
       "<matplotlib.axes._subplots.AxesSubplot at 0xe192596ef0>"
      ]
     },
     "execution_count": 823,
     "metadata": {},
     "output_type": "execute_result"
    },
    {
     "data": {
      "image/png": "[encoded data removed]",
      "text/plain": [
       "<Figure size 432x288 with 1 Axes>"
      ]
     },
     "metadata": {
      "needs_background": "light"
     },
     "output_type": "display_data"
    }
   ],
   "source": [
    "mortgages.boxplot(column='Tot_mthly_incm', by='Status')"
   ]
  },
  {
   "cell_type": "code",
   "execution_count": 824,
   "metadata": {},
   "outputs": [
    {
     "data": {
      "text/plain": [
       "<matplotlib.axes._subplots.AxesSubplot at 0xe1926997f0>"
      ]
     },
     "execution_count": 824,
     "metadata": {},
     "output_type": "execute_result"
    },
    {
     "data": {
      "image/png": "[encoded data removed]",
      "text/plain": [
       "<Figure size 432x288 with 1 Axes>"
      ]
     },
     "metadata": {
      "needs_background": "light"
     },
     "output_type": "display_data"
    }
   ],
   "source": [
    "mortgages['Ln_Orig'].hist(bins=50)"
   ]
  },
  {
   "cell_type": "code",
   "execution_count": 825,
   "metadata": {},
   "outputs": [
    {
     "data": {
      "text/plain": [
       "<matplotlib.axes._subplots.AxesSubplot at 0xe1926cb470>"
      ]
     },
     "execution_count": 825,
     "metadata": {},
     "output_type": "execute_result"
    },
    {
     "data": {
      "image/png": "[encoded data removed]",
      "text/plain": [
       "<Figure size 432x288 with 1 Axes>"
      ]
     },
     "metadata": {
      "needs_background": "light"
     },
     "output_type": "display_data"
    }
   ],
   "source": [
    "mortgages.boxplot(column='Ln_Orig')"
   ]
  },
  {
   "cell_type": "code",
   "execution_count": 826,
   "metadata": {},
   "outputs": [
    {
     "data": {
      "text/plain": [
       "<matplotlib.axes._subplots.AxesSubplot at 0xe192a2e198>"
      ]
     },
     "execution_count": 826,
     "metadata": {},
     "output_type": "execute_result"
    },
    {
     "data": {
      "image/png": "[encoded data removed]",
      "text/plain": [
       "<Figure size 432x288 with 1 Axes>"
      ]
     },
     "metadata": {
      "needs_background": "light"
     },
     "output_type": "display_data"
    }
   ],
   "source": [
    "mortgages.boxplot(column='Ln_Orig', by='First_home')"
   ]
  },
  {
   "cell_type": "code",
   "execution_count": 827,
   "metadata": {},
   "outputs": [
    {
     "data": {
      "text/plain": [
       "<matplotlib.axes._subplots.AxesSubplot at 0xe192a5c518>"
      ]
     },
     "execution_count": 827,
     "metadata": {},
     "output_type": "execute_result"
    },
    {
     "data": {
      "image/png": "[encoded data removed]",
      "text/plain": [
       "<Figure size 432x288 with 1 Axes>"
      ]
     },
     "metadata": {
      "needs_background": "light"
     },
     "output_type": "display_data"
    }
   ],
   "source": [
    "mortgages.boxplot(column='Ln_Orig', by='Status')"
   ]
  },
  {
   "cell_type": "code",
   "execution_count": 828,
   "metadata": {},
   "outputs": [
    {
     "data": {
      "text/plain": [
       "<matplotlib.axes._subplots.AxesSubplot at 0xe1929e0c50>"
      ]
     },
     "execution_count": 828,
     "metadata": {},
     "output_type": "execute_result"
    },
    {
     "data": {
      "image/png": "[encoded data removed]",
      "text/plain": [
       "<Figure size 432x288 with 1 Axes>"
      ]
     },
     "metadata": {
      "needs_background": "light"
     },
     "output_type": "display_data"
    }
   ],
   "source": [
    "mortgages['Tot_mthly_incm_log']=np.log(mortgages['Tot_mthly_incm'])\n",
    "mortgages['Tot_mthly_incm_log'].hist(bins=20)"
   ]
  },
  {
   "cell_type": "code",
   "execution_count": 829,
   "metadata": {},
   "outputs": [
    {
     "data": {
      "text/plain": [
       "<matplotlib.axes._subplots.AxesSubplot at 0xe192bb9358>"
      ]
     },
     "execution_count": 829,
     "metadata": {},
     "output_type": "execute_result"
    },
    {
     "data": {
      "image/png": "[encoded data removed]",
      "text/plain": [
       "<Figure size 432x288 with 1 Axes>"
      ]
     },
     "metadata": {
      "needs_background": "light"
     },
     "output_type": "display_data"
    }
   ],
   "source": [
    "mortgages['Ln_Orig_log']=np.log(mortgages['Ln_Orig'])\n",
    "mortgages['Ln_Orig_log'].hist(bins=20)"
   ]
  },
  {
   "cell_type": "code",
   "execution_count": 830,
   "metadata": {},
   "outputs": [
    {
     "data": {
      "text/plain": [
       "Bo_Age                  int64\n",
       "Ln_Orig               float64\n",
       "Orig_LTV_Ratio_Pct      int64\n",
       "Credit_score            int64\n",
       "First_home              int32\n",
       "Tot_mthly_debt_exp      int64\n",
       "Tot_mthly_incm          int64\n",
       "orig_apprd_val_amt      int64\n",
       "pur_prc_amt             int64\n",
       "DTI Ratio             float64\n",
       "Status                  int32\n",
       "OUTCOME                 int32\n",
       "State                   int32\n",
       "Median_state_inc        int64\n",
       "UPB>Appraisal           int64\n",
       "Tot_mthly_incm_log    float64\n",
       "Ln_Orig_log           float64\n",
       "dtype: object"
      ]
     },
     "execution_count": 830,
     "metadata": {},
     "output_type": "execute_result"
    }
   ],
   "source": [
    "from sklearn.preprocessing import LabelEncoder\n",
    "var_mod=['First_home','Status','State','UPB>Appraisal','OUTCOME']\n",
    "le=LabelEncoder()\n",
    "for i in var_mod:\n",
    "    mortgages[i]=le.fit_transform(mortgages[i])\n",
    "mortgages.dtypes"
   ]
  },
  {
   "cell_type": "code",
   "execution_count": 831,
   "metadata": {},
   "outputs": [],
   "source": [
    "from sklearn.linear_model import LogisticRegression\n",
    "from sklearn.model_selection import KFold\n",
    "from sklearn.ensemble import RandomForestClassifier\n",
    "from sklearn.tree import DecisionTreeClassifier, export_graphviz\n",
    "from sklearn.metrics import *\n",
    "from sklearn.model_selection import train_test_split \n",
    "\n",
    "def classification_model(model, data, predictors, outcome):\n",
    "    X=mortgages[predictor_var]\n",
    "    y=mortgages[outcome_var]\n",
    "\n",
    "    X_train, X_test, y_train, y_test = train_test_split(X, y, test_size=0.4, random_state=123)\n",
    "    model = model.fit(X_train,y_train)\n",
    "    y_pred = model.predict(X_test)\n",
    "    print(\"\\n 1. confusion matrix\\n\", confusion_matrix(y_test, y_pred))\n",
    "    print(\"\\n 2. classification report\\n\", classification_report(y_test, y_pred))\n",
    "\n",
    "    res_model = []\n",
    "    res_model.append([accuracy_score(y_test, y_pred),\n",
    "                   precision_score(y_test, y_pred, average = \"macro\"),\n",
    "                   recall_score(y_test, y_pred, average = \"macro\"),\n",
    "                   f1_score(y_test, y_pred, average = \"macro\")])\n",
    "\n",
    "    print(\"\\n3. performance measurements for classification model\")\n",
    "    print(pd.DataFrame(res_model, columns = [\"Accuracy\", \"Precision\", \"Recall\", \"F1-score\"], index=['model']))\n",
    "    \n",
    "    kf=KFold(5, shuffle=True, random_state=0)\n",
    "    error=[]\n",
    "    for train, test in kf.split(mortgages):\n",
    "        train_predictors=(data[predictors].iloc[train,:])\n",
    "        train_target=data[outcome].iloc[train]\n",
    "        model.fit(train_predictors, train_target)\n",
    "        error.append(model.score(data[predictors].iloc[test,:], data[outcome].iloc[test]))\n",
    "        \n",
    "    print('Cross-Validation Score : %s' % '{0:.3%}'.format(np.mean(error)))\n",
    "    \n",
    "    model.fit(data[predictors], data[outcome])"
   ]
  },
  {
   "cell_type": "code",
   "execution_count": 832,
   "metadata": {},
   "outputs": [
    {
     "name": "stderr",
     "output_type": "stream",
     "text": [
      "C:\\Anaconda3\\lib\\site-packages\\sklearn\\linear_model\\logistic.py:433: FutureWarning: Default solver will be changed to 'lbfgs' in 0.22. Specify a solver to silence this warning.\n",
      "  FutureWarning)\n",
      "C:\\Anaconda3\\lib\\site-packages\\sklearn\\utils\\validation.py:761: DataConversionWarning: A column-vector y was passed when a 1d array was expected. Please change the shape of y to (n_samples, ), for example using ravel().\n",
      "  y = column_or_1d(y, warn=True)\n"
     ]
    },
    {
     "name": "stdout",
     "output_type": "stream",
     "text": [
      "\n",
      " 1. confusion matrix\n",
      " [[  68   33]\n",
      " [1471 2671]]\n",
      "\n",
      " 2. classification report\n",
      "               precision    recall  f1-score   support\n",
      "\n",
      "           0       0.04      0.67      0.08       101\n",
      "           1       0.99      0.64      0.78      4142\n",
      "\n",
      "   micro avg       0.65      0.65      0.65      4243\n",
      "   macro avg       0.52      0.66      0.43      4243\n",
      "weighted avg       0.97      0.65      0.76      4243\n",
      "\n",
      "\n",
      "3. performance measurements for classification model\n",
      "       Accuracy  Precision    Recall  F1-score\n",
      "model  0.645534    0.51599  0.659062  0.431618\n"
     ]
    },
    {
     "name": "stderr",
     "output_type": "stream",
     "text": [
      "C:\\Anaconda3\\lib\\site-packages\\sklearn\\linear_model\\logistic.py:433: FutureWarning: Default solver will be changed to 'lbfgs' in 0.22. Specify a solver to silence this warning.\n",
      "  FutureWarning)\n",
      "C:\\Anaconda3\\lib\\site-packages\\sklearn\\utils\\validation.py:761: DataConversionWarning: A column-vector y was passed when a 1d array was expected. Please change the shape of y to (n_samples, ), for example using ravel().\n",
      "  y = column_or_1d(y, warn=True)\n",
      "C:\\Anaconda3\\lib\\site-packages\\sklearn\\linear_model\\logistic.py:433: FutureWarning: Default solver will be changed to 'lbfgs' in 0.22. Specify a solver to silence this warning.\n",
      "  FutureWarning)\n",
      "C:\\Anaconda3\\lib\\site-packages\\sklearn\\utils\\validation.py:761: DataConversionWarning: A column-vector y was passed when a 1d array was expected. Please change the shape of y to (n_samples, ), for example using ravel().\n",
      "  y = column_or_1d(y, warn=True)\n",
      "C:\\Anaconda3\\lib\\site-packages\\sklearn\\linear_model\\logistic.py:433: FutureWarning: Default solver will be changed to 'lbfgs' in 0.22. Specify a solver to silence this warning.\n",
      "  FutureWarning)\n",
      "C:\\Anaconda3\\lib\\site-packages\\sklearn\\utils\\validation.py:761: DataConversionWarning: A column-vector y was passed when a 1d array was expected. Please change the shape of y to (n_samples, ), for example using ravel().\n",
      "  y = column_or_1d(y, warn=True)\n",
      "C:\\Anaconda3\\lib\\site-packages\\sklearn\\linear_model\\logistic.py:433: FutureWarning: Default solver will be changed to 'lbfgs' in 0.22. Specify a solver to silence this warning.\n",
      "  FutureWarning)\n",
      "C:\\Anaconda3\\lib\\site-packages\\sklearn\\utils\\validation.py:761: DataConversionWarning: A column-vector y was passed when a 1d array was expected. Please change the shape of y to (n_samples, ), for example using ravel().\n",
      "  y = column_or_1d(y, warn=True)\n",
      "C:\\Anaconda3\\lib\\site-packages\\sklearn\\linear_model\\logistic.py:433: FutureWarning: Default solver will be changed to 'lbfgs' in 0.22. Specify a solver to silence this warning.\n",
      "  FutureWarning)\n",
      "C:\\Anaconda3\\lib\\site-packages\\sklearn\\utils\\validation.py:761: DataConversionWarning: A column-vector y was passed when a 1d array was expected. Please change the shape of y to (n_samples, ), for example using ravel().\n",
      "  y = column_or_1d(y, warn=True)\n"
     ]
    },
    {
     "name": "stdout",
     "output_type": "stream",
     "text": [
      "Cross-Validation Score : 68.709%\n"
     ]
    },
    {
     "name": "stderr",
     "output_type": "stream",
     "text": [
      "C:\\Anaconda3\\lib\\site-packages\\sklearn\\linear_model\\logistic.py:433: FutureWarning: Default solver will be changed to 'lbfgs' in 0.22. Specify a solver to silence this warning.\n",
      "  FutureWarning)\n",
      "C:\\Anaconda3\\lib\\site-packages\\sklearn\\utils\\validation.py:761: DataConversionWarning: A column-vector y was passed when a 1d array was expected. Please change the shape of y to (n_samples, ), for example using ravel().\n",
      "  y = column_or_1d(y, warn=True)\n"
     ]
    }
   ],
   "source": [
    "outcome_var=['OUTCOME']\n",
    "model=LogisticRegression(class_weight = {0:0.97, 1:0.03})\n",
    "predictor_var=['Bo_Age','Ln_Orig_log','Credit_score','First_home','Tot_mthly_debt_exp','Tot_mthly_incm_log','pur_prc_amt','Median_state_inc']\n",
    "classification_model(model, mortgages, predictor_var, outcome_var)"
   ]
  },
  {
   "cell_type": "code",
   "execution_count": 803,
   "metadata": {},
   "outputs": [
    {
     "name": "stdout",
     "output_type": "stream",
     "text": [
      "\n",
      " 1. confusion matrix\n",
      " [[   7   94]\n",
      " [ 166 3976]]\n",
      "\n",
      " 2. classification report\n",
      "               precision    recall  f1-score   support\n",
      "\n",
      "           0       0.04      0.07      0.05       101\n",
      "           1       0.98      0.96      0.97      4142\n",
      "\n",
      "   micro avg       0.94      0.94      0.94      4243\n",
      "   macro avg       0.51      0.51      0.51      4243\n",
      "weighted avg       0.95      0.94      0.95      4243\n",
      "\n",
      "\n",
      "3. performance measurements for classification model\n",
      "       Accuracy  Precision    Recall  F1-score\n",
      "model  0.938723   0.508683  0.514615  0.509717\n",
      "Cross-Validation Score : 94.164%\n"
     ]
    }
   ],
   "source": [
    "model=DecisionTreeClassifier()\n",
    "predictor_var=['Bo_Age','Ln_Orig_log','Credit_score','First_home','Tot_mthly_debt_exp','Tot_mthly_incm_log','pur_prc_amt','Median_state_inc']\n",
    "classification_model(model, mortgages, predictor_var, outcome_var)"
   ]
  },
  {
   "cell_type": "code",
   "execution_count": 804,
   "metadata": {},
   "outputs": [
    {
     "name": "stderr",
     "output_type": "stream",
     "text": [
      "C:\\Anaconda3\\lib\\site-packages\\ipykernel_launcher.py:13: DataConversionWarning: A column-vector y was passed when a 1d array was expected. Please change the shape of y to (n_samples,), for example using ravel().\n",
      "  del sys.path[0]\n"
     ]
    },
    {
     "name": "stdout",
     "output_type": "stream",
     "text": [
      "\n",
      " 1. confusion matrix\n",
      " [[   0  101]\n",
      " [   0 4142]]\n",
      "\n",
      " 2. classification report\n",
      "               precision    recall  f1-score   support\n",
      "\n",
      "           0       0.00      0.00      0.00       101\n",
      "           1       0.98      1.00      0.99      4142\n",
      "\n",
      "   micro avg       0.98      0.98      0.98      4243\n",
      "   macro avg       0.49      0.50      0.49      4243\n",
      "weighted avg       0.95      0.98      0.96      4243\n",
      "\n",
      "\n",
      "3. performance measurements for classification model\n",
      "       Accuracy  Precision  Recall  F1-score\n",
      "model  0.976196   0.488098     0.5  0.493977\n"
     ]
    },
    {
     "name": "stderr",
     "output_type": "stream",
     "text": [
      "C:\\Anaconda3\\lib\\site-packages\\sklearn\\metrics\\classification.py:1143: UndefinedMetricWarning: Precision and F-score are ill-defined and being set to 0.0 in labels with no predicted samples.\n",
      "  'precision', 'predicted', average, warn_for)\n",
      "C:\\Anaconda3\\lib\\site-packages\\sklearn\\metrics\\classification.py:1143: UndefinedMetricWarning: Precision and F-score are ill-defined and being set to 0.0 in labels with no predicted samples.\n",
      "  'precision', 'predicted', average, warn_for)\n",
      "C:\\Anaconda3\\lib\\site-packages\\sklearn\\metrics\\classification.py:1143: UndefinedMetricWarning: Precision and F-score are ill-defined and being set to 0.0 in labels with no predicted samples.\n",
      "  'precision', 'predicted', average, warn_for)\n",
      "C:\\Anaconda3\\lib\\site-packages\\sklearn\\metrics\\classification.py:1143: UndefinedMetricWarning: Precision is ill-defined and being set to 0.0 in labels with no predicted samples.\n",
      "  'precision', 'predicted', average, warn_for)\n",
      "C:\\Anaconda3\\lib\\site-packages\\sklearn\\metrics\\classification.py:1143: UndefinedMetricWarning: F-score is ill-defined and being set to 0.0 in labels with no predicted samples.\n",
      "  'precision', 'predicted', average, warn_for)\n",
      "C:\\Anaconda3\\lib\\site-packages\\ipykernel_launcher.py:32: DataConversionWarning: A column-vector y was passed when a 1d array was expected. Please change the shape of y to (n_samples,), for example using ravel().\n",
      "C:\\Anaconda3\\lib\\site-packages\\ipykernel_launcher.py:32: DataConversionWarning: A column-vector y was passed when a 1d array was expected. Please change the shape of y to (n_samples,), for example using ravel().\n",
      "C:\\Anaconda3\\lib\\site-packages\\ipykernel_launcher.py:32: DataConversionWarning: A column-vector y was passed when a 1d array was expected. Please change the shape of y to (n_samples,), for example using ravel().\n",
      "C:\\Anaconda3\\lib\\site-packages\\ipykernel_launcher.py:32: DataConversionWarning: A column-vector y was passed when a 1d array was expected. Please change the shape of y to (n_samples,), for example using ravel().\n",
      "C:\\Anaconda3\\lib\\site-packages\\ipykernel_launcher.py:32: DataConversionWarning: A column-vector y was passed when a 1d array was expected. Please change the shape of y to (n_samples,), for example using ravel().\n"
     ]
    },
    {
     "name": "stdout",
     "output_type": "stream",
     "text": [
      "Cross-Validation Score : 97.341%\n"
     ]
    },
    {
     "name": "stderr",
     "output_type": "stream",
     "text": [
      "C:\\Anaconda3\\lib\\site-packages\\ipykernel_launcher.py:37: DataConversionWarning: A column-vector y was passed when a 1d array was expected. Please change the shape of y to (n_samples,), for example using ravel().\n"
     ]
    }
   ],
   "source": [
    "model=RandomForestClassifier(n_estimators=100)\n",
    "predictor_var=['Bo_Age','Ln_Orig_log','Credit_score','First_home','Tot_mthly_debt_exp','Tot_mthly_incm_log','pur_prc_amt','Median_state_inc']\n",
    "classification_model(model, mortgages, predictor_var, outcome_var)"
   ]
  },
  {
   "cell_type": "code",
   "execution_count": 805,
   "metadata": {},
   "outputs": [
    {
     "data": {
      "text/plain": [
       "Tot_mthly_debt_exp    0.163723\n",
       "Ln_Orig_log           0.162834\n",
       "pur_prc_amt           0.155783\n",
       "Tot_mthly_incm_log    0.153601\n",
       "Credit_score          0.147352\n",
       "Bo_Age                0.107827\n",
       "Median_state_inc      0.090595\n",
       "First_home            0.018285\n",
       "dtype: float64"
      ]
     },
     "execution_count": 805,
     "metadata": {},
     "output_type": "execute_result"
    }
   ],
   "source": [
    "featimp=pd.Series(model.feature_importances_, index=predictor_var).sort_values(ascending=False)\n",
    "featimp"
   ]
  },
  {
   "cell_type": "code",
   "execution_count": 810,
   "metadata": {},
   "outputs": [
    {
     "name": "stderr",
     "output_type": "stream",
     "text": [
      "C:\\Anaconda3\\lib\\site-packages\\ipykernel_launcher.py:13: DataConversionWarning: A column-vector y was passed when a 1d array was expected. Please change the shape of y to (n_samples,), for example using ravel().\n",
      "  del sys.path[0]\n"
     ]
    },
    {
     "name": "stdout",
     "output_type": "stream",
     "text": [
      "\n",
      " 1. confusion matrix\n",
      " [[  20   81]\n",
      " [ 376 3766]]\n",
      "\n",
      " 2. classification report\n",
      "               precision    recall  f1-score   support\n",
      "\n",
      "           0       0.05      0.20      0.08       101\n",
      "           1       0.98      0.91      0.94      4142\n",
      "\n",
      "   micro avg       0.89      0.89      0.89      4243\n",
      "   macro avg       0.51      0.55      0.51      4243\n",
      "weighted avg       0.96      0.89      0.92      4243\n",
      "\n",
      "\n",
      "3. performance measurements for classification model\n",
      "       Accuracy  Precision    Recall  F1-score\n",
      "model  0.892293   0.514725  0.553621   0.51164\n"
     ]
    },
    {
     "name": "stderr",
     "output_type": "stream",
     "text": [
      "C:\\Anaconda3\\lib\\site-packages\\ipykernel_launcher.py:32: DataConversionWarning: A column-vector y was passed when a 1d array was expected. Please change the shape of y to (n_samples,), for example using ravel().\n",
      "C:\\Anaconda3\\lib\\site-packages\\ipykernel_launcher.py:32: DataConversionWarning: A column-vector y was passed when a 1d array was expected. Please change the shape of y to (n_samples,), for example using ravel().\n",
      "C:\\Anaconda3\\lib\\site-packages\\ipykernel_launcher.py:32: DataConversionWarning: A column-vector y was passed when a 1d array was expected. Please change the shape of y to (n_samples,), for example using ravel().\n",
      "C:\\Anaconda3\\lib\\site-packages\\ipykernel_launcher.py:32: DataConversionWarning: A column-vector y was passed when a 1d array was expected. Please change the shape of y to (n_samples,), for example using ravel().\n",
      "C:\\Anaconda3\\lib\\site-packages\\ipykernel_launcher.py:32: DataConversionWarning: A column-vector y was passed when a 1d array was expected. Please change the shape of y to (n_samples,), for example using ravel().\n"
     ]
    },
    {
     "name": "stdout",
     "output_type": "stream",
     "text": [
      "Cross-Validation Score : 87.112%\n"
     ]
    },
    {
     "name": "stderr",
     "output_type": "stream",
     "text": [
      "C:\\Anaconda3\\lib\\site-packages\\ipykernel_launcher.py:37: DataConversionWarning: A column-vector y was passed when a 1d array was expected. Please change the shape of y to (n_samples,), for example using ravel().\n"
     ]
    }
   ],
   "source": [
    "model=RandomForestClassifier(n_estimators=250, min_samples_split=25, max_depth=7, max_features=1, class_weight = {0:0.97, 1:0.03})\n",
    "predictor_var=['Bo_Age','Ln_Orig_log','Credit_score','First_home','Tot_mthly_debt_exp','Tot_mthly_incm_log','pur_prc_amt','Median_state_inc']\n",
    "classification_model(model, mortgages, predictor_var, outcome_var)"
   ]
  },
  {
   "cell_type": "code",
   "execution_count": null,
   "metadata": {},
   "outputs": [],
   "source": []
  },
  {
   "cell_type": "code",
   "execution_count": null,
   "metadata": {},
   "outputs": [],
   "source": []
  },
  {
   "cell_type": "code",
   "execution_count": null,
   "metadata": {},
   "outputs": [],
   "source": []
  }
 ],
 "metadata": {
  "kernelspec": {
   "display_name": "Python 3",
   "language": "python",
   "name": "python3"
  },
  "language_info": {
   "codemirror_mode": {
    "name": "ipython",
    "version": 3
   },
   "file_extension": ".py",
   "mimetype": "text/x-python",
   "name": "python",
   "nbconvert_exporter": "python",
   "pygments_lexer": "ipython3",
   "version": "3.7.1"
  }
 },
 "nbformat": 4,
 "nbformat_minor": 2
}
